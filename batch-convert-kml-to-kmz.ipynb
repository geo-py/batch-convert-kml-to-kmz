{
 "cells": [
  {
   "cell_type": "code",
   "execution_count": 1,
   "metadata": {},
   "outputs": [
    {
     "name": "stdout",
     "output_type": "stream",
     "text": [
      "Done\n"
     ]
    }
   ],
   "source": [
    "# Batch convert from kml to kmz\n",
    "# Author: MAB\n",
    "# Date: 21/01/20\n",
    "\n",
    "#import necessary libraries\n",
    "import os\n",
    "import zipfile\n",
    "\n",
    "#create new variable with path to folder containing kml files\n",
    "indir = r\"C:\\Users\\Mark Brown\\Documents\\kmltokmz\"\n",
    "\n",
    "kmls = [f for f in os.listdir(indir) if os.path.splitext(f)[1].upper()==\".KML\"]\n",
    "\n",
    "\n",
    "#create new variable for output directory\n",
    "outdir = os.path.join(indir, \"kmz\")\n",
    "\n",
    "if os.path.isdir(outdir) is False:\n",
    "    os.mkdir(outdir)\n",
    "    \n",
    "for kml in kmls:\n",
    "    fn = os.path.splitext(kml)[0]\n",
    "    kmlpath = os.path.join(indir, kml)\n",
    "    kmzpath = os.path.join(outdir, fn + '.kmz')\n",
    "    with zipfile.ZipFile(kmzpath, 'w') as kmz:\n",
    "        kmz.write(kmlpath, \"doc.kml\")\n",
    "        \n",
    "print(\"Done\")"
   ]
  },
  {
   "cell_type": "code",
   "execution_count": null,
   "metadata": {},
   "outputs": [],
   "source": []
  }
 ],
 "metadata": {
  "kernelspec": {
   "display_name": "Python 3",
   "language": "python",
   "name": "python3"
  },
  "language_info": {
   "codemirror_mode": {
    "name": "ipython",
    "version": 3
   },
   "file_extension": ".py",
   "mimetype": "text/x-python",
   "name": "python",
   "nbconvert_exporter": "python",
   "pygments_lexer": "ipython3",
   "version": "3.7.4"
  }
 },
 "nbformat": 4,
 "nbformat_minor": 2
}
